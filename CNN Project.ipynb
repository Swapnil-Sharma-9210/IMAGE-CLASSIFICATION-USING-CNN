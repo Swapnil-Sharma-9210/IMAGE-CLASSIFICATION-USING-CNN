{
 "cells": [
  {
   "cell_type": "code",
   "execution_count": 1,
   "id": "fa557a38",
   "metadata": {},
   "outputs": [],
   "source": [
    "import numpy as np \n",
    "import pandas as pd \n",
    "import matplotlib.pyplot as plt\n",
    "import seaborn as sns"
   ]
  },
  {
   "cell_type": "code",
   "execution_count": 2,
   "id": "a5424d16",
   "metadata": {},
   "outputs": [],
   "source": [
    "import tensorflow as tf\n",
    "from keras.preprocessing.image import ImageDataGenerator"
   ]
  },
  {
   "cell_type": "code",
   "execution_count": 3,
   "id": "f8d203b8",
   "metadata": {},
   "outputs": [],
   "source": [
    "from keras.models import Sequential\n",
    "from keras.layers import Conv2D\n",
    "from keras.layers import MaxPooling2D\n",
    "from keras.layers import Flatten\n",
    "from keras.layers import Dense"
   ]
  },
  {
   "cell_type": "code",
   "execution_count": 5,
   "id": "e1036a56",
   "metadata": {},
   "outputs": [
    {
     "name": "stdout",
     "output_type": "stream",
     "text": [
      "Found 1902 images belonging to 2 classes.\n"
     ]
    }
   ],
   "source": [
    "train_datagen = ImageDataGenerator(rescale = 1./255,\n",
    "                                   shear_range = 0.2,\n",
    "                                   zoom_range = 0.2,\n",
    "                                   horizontal_flip = True)\n",
    "training_set = train_datagen.flow_from_directory('train',\n",
    "                                                 target_size = (48, 48),\n",
    "                                                 batch_size = 32,\n",
    "                                                 class_mode = 'binary',\n",
    "                                                color_mode = \"grayscale\")"
   ]
  },
  {
   "cell_type": "code",
   "execution_count": 20,
   "id": "d5d2bee0",
   "metadata": {},
   "outputs": [
    {
     "name": "stdout",
     "output_type": "stream",
     "text": [
      "Found 2166 images belonging to 2 classes.\n"
     ]
    }
   ],
   "source": [
    "test_datagen = ImageDataGenerator(rescale = 1./255)\n",
    "test_set = test_datagen.flow_from_directory('validation',\n",
    "                                            target_size = (48, 48),\n",
    "                                            batch_size = 32,\n",
    "                                            class_mode = 'binary',\n",
    "                                           color_mode = \"grayscale\")"
   ]
  },
  {
   "cell_type": "code",
   "execution_count": 21,
   "id": "42902d9f",
   "metadata": {},
   "outputs": [],
   "source": [
    "cnn = tf.keras.models.Sequential()"
   ]
  },
  {
   "cell_type": "code",
   "execution_count": 22,
   "id": "b418c1b6",
   "metadata": {},
   "outputs": [],
   "source": [
    "cnn.add(tf.keras.layers.Conv2D(filters=32, kernel_size=3, activation='relu', input_shape=[48, 48, 1]))"
   ]
  },
  {
   "cell_type": "code",
   "execution_count": 23,
   "id": "00621e8b",
   "metadata": {},
   "outputs": [],
   "source": [
    "cnn.add(tf.keras.layers.MaxPool2D(pool_size=2, strides=2))"
   ]
  },
  {
   "cell_type": "code",
   "execution_count": 24,
   "id": "b0492979",
   "metadata": {},
   "outputs": [],
   "source": [
    "cnn.add(tf.keras.layers.Conv2D(filters=32, kernel_size=3, activation='relu'))\n",
    "cnn.add(tf.keras.layers.MaxPool2D(pool_size=2, strides=2))"
   ]
  },
  {
   "cell_type": "code",
   "execution_count": 25,
   "id": "d2101512",
   "metadata": {},
   "outputs": [],
   "source": [
    "cnn.add(tf.keras.layers.Flatten())"
   ]
  },
  {
   "cell_type": "code",
   "execution_count": 26,
   "id": "1d811697",
   "metadata": {},
   "outputs": [],
   "source": [
    "cnn.add(tf.keras.layers.Dense(units=128, activation='relu'))"
   ]
  },
  {
   "cell_type": "code",
   "execution_count": 28,
   "id": "e8f608ce",
   "metadata": {},
   "outputs": [],
   "source": [
    "cnn.add(tf.keras.layers.Dense(units=1, activation='sigmoid'))"
   ]
  },
  {
   "cell_type": "code",
   "execution_count": 29,
   "id": "633abd62",
   "metadata": {},
   "outputs": [],
   "source": [
    "cnn.compile(optimizer = 'adam', loss = 'binary_crossentropy', metrics = ['accuracy'])"
   ]
  },
  {
   "cell_type": "code",
   "execution_count": 30,
   "id": "d902d118",
   "metadata": {},
   "outputs": [
    {
     "name": "stdout",
     "output_type": "stream",
     "text": [
      "Epoch 1/25\n",
      "60/60 [==============================] - 6s 78ms/step - loss: 0.6919 - accuracy: 0.7892 - val_loss: 0.6834 - val_accuracy: 0.6754\n",
      "Epoch 2/25\n",
      "60/60 [==============================] - 4s 68ms/step - loss: 0.6626 - accuracy: 0.8686 - val_loss: 0.6747 - val_accuracy: 0.6754\n",
      "Epoch 3/25\n",
      "60/60 [==============================] - 4s 62ms/step - loss: 0.6433 - accuracy: 0.8686 - val_loss: 0.6668 - val_accuracy: 0.6754\n",
      "Epoch 4/25\n",
      "60/60 [==============================] - 4s 62ms/step - loss: 0.6250 - accuracy: 0.8686 - val_loss: 0.6598 - val_accuracy: 0.6754\n",
      "Epoch 5/25\n",
      "60/60 [==============================] - 4s 62ms/step - loss: 0.6079 - accuracy: 0.8686 - val_loss: 0.6538 - val_accuracy: 0.6754\n",
      "Epoch 6/25\n",
      "60/60 [==============================] - 4s 61ms/step - loss: 0.5920 - accuracy: 0.8686 - val_loss: 0.6486 - val_accuracy: 0.6754\n",
      "Epoch 7/25\n",
      "60/60 [==============================] - 4s 67ms/step - loss: 0.5771 - accuracy: 0.8686 - val_loss: 0.6440 - val_accuracy: 0.6754\n",
      "Epoch 8/25\n",
      "60/60 [==============================] - 4s 63ms/step - loss: 0.5631 - accuracy: 0.8686 - val_loss: 0.6403 - val_accuracy: 0.6754\n",
      "Epoch 9/25\n",
      "60/60 [==============================] - 4s 63ms/step - loss: 0.5501 - accuracy: 0.8686 - val_loss: 0.6372 - val_accuracy: 0.6754\n",
      "Epoch 10/25\n",
      "60/60 [==============================] - 4s 63ms/step - loss: 0.5378 - accuracy: 0.8686 - val_loss: 0.6348 - val_accuracy: 0.6754\n",
      "Epoch 11/25\n",
      "60/60 [==============================] - 4s 65ms/step - loss: 0.5265 - accuracy: 0.8686 - val_loss: 0.6329 - val_accuracy: 0.6754\n",
      "Epoch 12/25\n",
      "60/60 [==============================] - 4s 67ms/step - loss: 0.5159 - accuracy: 0.8686 - val_loss: 0.6316 - val_accuracy: 0.6754\n",
      "Epoch 13/25\n",
      "60/60 [==============================] - 4s 70ms/step - loss: 0.5060 - accuracy: 0.8686 - val_loss: 0.6307 - val_accuracy: 0.6754\n",
      "Epoch 14/25\n",
      "60/60 [==============================] - 4s 68ms/step - loss: 0.4969 - accuracy: 0.8686 - val_loss: 0.6303 - val_accuracy: 0.6754\n",
      "Epoch 15/25\n",
      "60/60 [==============================] - 4s 65ms/step - loss: 0.4885 - accuracy: 0.8686 - val_loss: 0.6303 - val_accuracy: 0.6754\n",
      "Epoch 16/25\n",
      "60/60 [==============================] - 4s 67ms/step - loss: 0.4805 - accuracy: 0.8686 - val_loss: 0.6307 - val_accuracy: 0.6754\n",
      "Epoch 17/25\n",
      "60/60 [==============================] - 4s 66ms/step - loss: 0.4732 - accuracy: 0.8686 - val_loss: 0.6314 - val_accuracy: 0.6754\n",
      "Epoch 18/25\n",
      "60/60 [==============================] - 4s 64ms/step - loss: 0.4664 - accuracy: 0.8686 - val_loss: 0.6325 - val_accuracy: 0.6754\n",
      "Epoch 19/25\n",
      "60/60 [==============================] - 4s 62ms/step - loss: 0.4601 - accuracy: 0.8686 - val_loss: 0.6339 - val_accuracy: 0.6754\n",
      "Epoch 20/25\n",
      "60/60 [==============================] - 4s 73ms/step - loss: 0.4542 - accuracy: 0.8686 - val_loss: 0.6355 - val_accuracy: 0.6754\n",
      "Epoch 21/25\n",
      "60/60 [==============================] - 5s 77ms/step - loss: 0.4487 - accuracy: 0.8686 - val_loss: 0.6373 - val_accuracy: 0.6754\n",
      "Epoch 22/25\n",
      "60/60 [==============================] - 4s 73ms/step - loss: 0.4437 - accuracy: 0.8686 - val_loss: 0.6393 - val_accuracy: 0.6754\n",
      "Epoch 23/25\n",
      "60/60 [==============================] - 4s 74ms/step - loss: 0.4391 - accuracy: 0.8686 - val_loss: 0.6415 - val_accuracy: 0.6754\n",
      "Epoch 24/25\n",
      "60/60 [==============================] - 4s 62ms/step - loss: 0.4347 - accuracy: 0.8686 - val_loss: 0.6439 - val_accuracy: 0.6754\n",
      "Epoch 25/25\n",
      "60/60 [==============================] - 4s 67ms/step - loss: 0.4307 - accuracy: 0.8686 - val_loss: 0.6464 - val_accuracy: 0.6754\n"
     ]
    },
    {
     "data": {
      "text/plain": [
       "<keras.src.callbacks.History at 0x1f41c8db9a0>"
      ]
     },
     "execution_count": 30,
     "metadata": {},
     "output_type": "execute_result"
    }
   ],
   "source": [
    "cnn.fit(x = training_set, validation_data = test_set, epochs = 25)"
   ]
  },
  {
   "cell_type": "code",
   "execution_count": 33,
   "id": "76daa9e9",
   "metadata": {},
   "outputs": [
    {
     "name": "stdout",
     "output_type": "stream",
     "text": [
      "1/1 [==============================] - 0s 27ms/step\n"
     ]
    }
   ],
   "source": [
    "import numpy as np\n",
    "from keras.preprocessing import image\n",
    "test_image = image.load_img('train/angry/7415.jpg', target_size = (48, 48),color_mode = \"grayscale\")\n",
    "test_image = image.img_to_array(test_image)\n",
    "test_image = np.expand_dims(test_image, axis = 0)\n",
    "result = cnn.predict(test_image)\n",
    "training_set.class_indices\n",
    "if result[0][0] == 1:\n",
    "  prediction = 'happy'\n",
    "else:\n",
    "  prediction = 'angry'"
   ]
  },
  {
   "cell_type": "code",
   "execution_count": 34,
   "id": "61842056",
   "metadata": {},
   "outputs": [
    {
     "data": {
      "text/plain": [
       "'angry'"
      ]
     },
     "execution_count": 34,
     "metadata": {},
     "output_type": "execute_result"
    }
   ],
   "source": [
    "prediction"
   ]
  },
  {
   "cell_type": "code",
   "execution_count": 37,
   "id": "84f97971",
   "metadata": {},
   "outputs": [
    {
     "name": "stdout",
     "output_type": "stream",
     "text": [
      "1/1 [==============================] - 0s 32ms/step\n"
     ]
    }
   ],
   "source": [
    "import numpy as np\n",
    "from keras.preprocessing import image\n",
    "test_image = image.load_img('validation/happy/10480.jpg', target_size = (48, 48),color_mode = \"grayscale\")\n",
    "test_image = image.img_to_array(test_image)\n",
    "test_image = np.expand_dims(test_image, axis = 0)\n",
    "result = cnn.predict(test_image)\n",
    "training_set.class_indices\n",
    "if result[0][0] == 1:\n",
    "  prediction = 'angry'\n",
    "else:\n",
    "  prediction = 'happy'"
   ]
  },
  {
   "cell_type": "code",
   "execution_count": 38,
   "id": "f73763c5",
   "metadata": {},
   "outputs": [
    {
     "data": {
      "text/plain": [
       "'happy'"
      ]
     },
     "execution_count": 38,
     "metadata": {},
     "output_type": "execute_result"
    }
   ],
   "source": [
    "prediction"
   ]
  },
  {
   "cell_type": "code",
   "execution_count": 43,
   "id": "9c1668ec",
   "metadata": {},
   "outputs": [
    {
     "name": "stdout",
     "output_type": "stream",
     "text": [
      "60/60 [==============================] - 2s 36ms/step - loss: 0.4289 - accuracy: 0.8686\n",
      "68/68 [==============================] - 1s 18ms/step - loss: 0.6464 - accuracy: 0.6754\n",
      "final train accuracy = 86.86 , validation accuracy = 67.54\n"
     ]
    }
   ],
   "source": [
    "train_loss, train_acc = cnn.evaluate(training_set)\n",
    "test_loss, test_acc   = cnn.evaluate(test_set)\n",
    "print(\"final train accuracy = {:.2f} , validation accuracy = {:.2f}\".format(train_acc*100, test_acc*100))"
   ]
  },
  {
   "cell_type": "code",
   "execution_count": null,
   "id": "d112a8d3",
   "metadata": {},
   "outputs": [],
   "source": []
  },
  {
   "cell_type": "code",
   "execution_count": null,
   "id": "7421118e",
   "metadata": {},
   "outputs": [],
   "source": []
  }
 ],
 "metadata": {
  "kernelspec": {
   "display_name": "Python 3 (ipykernel)",
   "language": "python",
   "name": "python3"
  },
  "language_info": {
   "codemirror_mode": {
    "name": "ipython",
    "version": 3
   },
   "file_extension": ".py",
   "mimetype": "text/x-python",
   "name": "python",
   "nbconvert_exporter": "python",
   "pygments_lexer": "ipython3",
   "version": "3.10.9"
  }
 },
 "nbformat": 4,
 "nbformat_minor": 5
}
